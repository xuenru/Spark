{
 "cells": [
  {
   "cell_type": "markdown",
   "metadata": {},
   "source": [
    "# CollaboratIve Filtering for Movie Recommandation\n",
    "#### use Alternating Least Squares (ALS) to minimize loss function\n",
    "dataset from https://grouplens.org/datasets/movielens/"
   ]
  },
  {
   "cell_type": "code",
   "execution_count": 1,
   "metadata": {},
   "outputs": [],
   "source": [
    "import pyspark\n",
    "import findspark\n",
    "from pyspark.ml.recommendation import ALS\n",
    "from pyspark.ml.evaluation import RegressionEvaluator\n",
    "from pyspark.sql import SQLContext\n",
    "from pyspark.sql.types import StructType, StructField, IntegerType, FloatType, StringType\n",
    "from functools import reduce\n",
    "from IPython.core.display import display, HTML\n"
   ]
  },
  {
   "cell_type": "markdown",
   "metadata": {},
   "source": [
    "#### Initialization spark session"
   ]
  },
  {
   "cell_type": "code",
   "execution_count": 2,
   "metadata": {},
   "outputs": [],
   "source": [
    "findspark.init()\n",
    "pyspark.SparkContext.setSystemProperty('spark.executor.memory', '4g')\n",
    "sc = pyspark.SparkContext(appName=\"Movie Recommandation\")"
   ]
  },
  {
   "cell_type": "markdown",
   "metadata": {},
   "source": [
    "#### load rating data from csv"
   ]
  },
  {
   "cell_type": "code",
   "execution_count": 3,
   "metadata": {
    "scrolled": true
   },
   "outputs": [
    {
     "name": "stdout",
     "output_type": "stream",
     "text": [
      "+------+-------+------+\n",
      "|userId|movieId|rating|\n",
      "+------+-------+------+\n",
      "|     1|      1|   4.0|\n",
      "|     1|      3|   4.0|\n",
      "|     1|      6|   4.0|\n",
      "|     1|     47|   5.0|\n",
      "|     1|     50|   5.0|\n",
      "+------+-------+------+\n",
      "only showing top 5 rows\n",
      "\n"
     ]
    }
   ],
   "source": [
    "schema = StructType([StructField(\"userId\", IntegerType()),\n",
    "                     StructField(\"movieId\", IntegerType()),\n",
    "                     StructField(\"rating\", FloatType())])\n",
    "ratings = SQLContext(sc).read.csv(\"ml-latest-small/ratings.csv\", header=True, schema=schema)\n",
    "ratings.show(5)"
   ]
  },
  {
   "cell_type": "markdown",
   "metadata": {},
   "source": [
    "#### load movie title data"
   ]
  },
  {
   "cell_type": "code",
   "execution_count": 4,
   "metadata": {},
   "outputs": [
    {
     "name": "stdout",
     "output_type": "stream",
     "text": [
      "+-------+--------------------+--------------------+\n",
      "|movieId|               title|              genres|\n",
      "+-------+--------------------+--------------------+\n",
      "|      1|    Toy Story (1995)|Adventure|Animati...|\n",
      "|      2|      Jumanji (1995)|Adventure|Childre...|\n",
      "|      3|Grumpier Old Men ...|      Comedy|Romance|\n",
      "|      4|Waiting to Exhale...|Comedy|Drama|Romance|\n",
      "|      5|Father of the Bri...|              Comedy|\n",
      "+-------+--------------------+--------------------+\n",
      "only showing top 5 rows\n",
      "\n"
     ]
    }
   ],
   "source": [
    "schema_movies = StructType([\n",
    "    StructField(\"movieId\", IntegerType()),\n",
    "    StructField(\"title\", StringType()),\n",
    "    StructField(\"genres\", StringType())\n",
    "])\n",
    "movies = SQLContext(sc).read.csv(\n",
    "    \"ml-latest-small/movies.csv\", header=True, schema=schema_movies)\n",
    "movies.show(5)"
   ]
  },
  {
   "cell_type": "markdown",
   "metadata": {},
   "source": [
    "#### load movie description link data"
   ]
  },
  {
   "cell_type": "code",
   "execution_count": 5,
   "metadata": {},
   "outputs": [
    {
     "name": "stdout",
     "output_type": "stream",
     "text": [
      "+-------+-------+------+\n",
      "|movieId| imdbId|tmdbId|\n",
      "+-------+-------+------+\n",
      "|      1|0114709|   862|\n",
      "|      2|0113497|  8844|\n",
      "|      3|0113228| 15602|\n",
      "|      4|0114885| 31357|\n",
      "|      5|0113041| 11862|\n",
      "+-------+-------+------+\n",
      "only showing top 5 rows\n",
      "\n"
     ]
    }
   ],
   "source": [
    "schema_links = StructType([\n",
    "    StructField(\"movieId\", IntegerType()),\n",
    "    StructField(\"imdbId\", StringType()),\n",
    "    StructField(\"tmdbId\", IntegerType())\n",
    "])\n",
    "links = SQLContext(sc).read.csv(\n",
    "    \"ml-latest-small/links.csv\", header=True, schema=schema_links)\n",
    "links.show(5)"
   ]
  },
  {
   "cell_type": "markdown",
   "metadata": {},
   "source": [
    "#### load movie youtube trainer links data"
   ]
  },
  {
   "cell_type": "code",
   "execution_count": 6,
   "metadata": {},
   "outputs": [
    {
     "name": "stdout",
     "output_type": "stream",
     "text": [
      "+-----------+-------+--------------------+\n",
      "|  youtubeId|movieId|               title|\n",
      "+-----------+-------+--------------------+\n",
      "|K26_sDKnvMU|      1|    Toy Story (1995)|\n",
      "|3LPANjHlPxo|      2|      Jumanji (1995)|\n",
      "|rEnOoWs3FuA|      3|Grumpier Old Men ...|\n",
      "|j9xml1CxgXI|      4|Waiting to Exhale...|\n",
      "|ltwvKLnj1B4|      5|Father of the Bri...|\n",
      "+-----------+-------+--------------------+\n",
      "only showing top 5 rows\n",
      "\n"
     ]
    }
   ],
   "source": [
    "schema_youtube = StructType([\n",
    "    StructField(\"youtubeId\", StringType()),\n",
    "    StructField(\"movieId\", IntegerType()),\n",
    "    StructField(\"title\", StringType())\n",
    "])\n",
    "youtubes = SQLContext(sc).read.csv(\n",
    "    \"ml-latest-small/ml-youtube.csv\", header=True, schema=schema_youtube)\n",
    "youtubes.show(5)"
   ]
  },
  {
   "cell_type": "markdown",
   "metadata": {},
   "source": [
    "## Build ALS model\n",
    "##### split ratings with training and test data"
   ]
  },
  {
   "cell_type": "code",
   "execution_count": 7,
   "metadata": {
    "scrolled": false
   },
   "outputs": [],
   "source": [
    "training, test = ratings.randomSplit([0.9, 0.1])\n",
    "# build ALS model with training data\n",
    "# the coldStartStrategy parameter to “drop” in order to drop any rows in the DataFrame of predictions that contain NaN values. \n",
    "# The evaluation metric will then be computed over the non-NaN data and will be valid. \n",
    "als = ALS(userCol=\"userId\", itemCol=\"movieId\", ratingCol=\"rating\", coldStartStrategy=\"drop\")\n",
    "als_model = als.fit(training)"
   ]
  },
  {
   "cell_type": "markdown",
   "metadata": {},
   "source": [
    "#### predict rating score and put it the new column \"prediction\" in the test data\n"
   ]
  },
  {
   "cell_type": "code",
   "execution_count": 8,
   "metadata": {
    "scrolled": true
   },
   "outputs": [
    {
     "name": "stdout",
     "output_type": "stream",
     "text": [
      "+------+-------+------+----------+\n",
      "|userId|movieId|rating|prediction|\n",
      "+------+-------+------+----------+\n",
      "|   462|    471|   2.5| 3.1241457|\n",
      "|   448|    471|   4.0| 3.6321914|\n",
      "|   373|    471|   5.0| 3.7751102|\n",
      "|   104|    471|   4.5|  3.216738|\n",
      "|   463|   1088|   3.5|  3.062744|\n",
      "+------+-------+------+----------+\n",
      "only showing top 5 rows\n",
      "\n"
     ]
    }
   ],
   "source": [
    "predictions = als_model.transform(test)\n",
    "predictions.show(5)"
   ]
  },
  {
   "cell_type": "markdown",
   "metadata": {},
   "source": [
    "#### Evaluat the performance of the model\n",
    "use the default metric method rmse (Root-mean-square deviation)\n",
    "$$\\sqrt{\\frac{1}{n}(rating - prediction)^2}$$"
   ]
  },
  {
   "cell_type": "code",
   "execution_count": 9,
   "metadata": {},
   "outputs": [
    {
     "data": {
      "text/plain": [
       "0.8806013443477815"
      ]
     },
     "execution_count": 9,
     "metadata": {},
     "output_type": "execute_result"
    }
   ],
   "source": [
    "evaluator = RegressionEvaluator(labelCol=\"rating\")\n",
    "evaluator.evaluate(predictions)"
   ]
  },
  {
   "cell_type": "code",
   "execution_count": 10,
   "metadata": {},
   "outputs": [],
   "source": [
    "def get_recom_movies(userId, nb=5):\n",
    "    \"\"\"\n",
    "    Get recommended movies dataframe for the specified users\n",
    "\n",
    "    Parameters\n",
    "    ----------\n",
    "    userid : sigle user id or list of user id\n",
    "\n",
    "    nb :number of recommended movies\n",
    "\n",
    "    \"\"\"\n",
    "    if type(userId) == 'int':\n",
    "        userId = [userId]\n",
    "    user_col = als.getUserCol()\n",
    "    df_users = ratings.select(user_col).distinct().filter(ratings[user_col].isin(userId))\n",
    "    rec_movies = als_model.recommendForUserSubset(df_users, nb)\n",
    "    users_movieIds = rec_movies.rdd.map(lambda x: [(x.userId, r.movieId) for r in x['recommendations']]).collect()                                                                                                                                                                                       \n",
    "    rec_movie_ids = []\n",
    "    for um in users_movieIds:\n",
    "        rec_movie_ids.append(SQLContext(sc).createDataFrame(um, ['userId', 'movieId']))\n",
    "\n",
    "    df_rec_movie_ids = reduce(lambda df1, df2: df1.union(df2), rec_movie_ids)\n",
    "    df_rec_movies = df_rec_movie_ids.join(movies, 'movieId').join(links, 'movieId').join(\n",
    "        youtubes, 'movieId').drop(youtubes.title).select(\"userId\", \"movieId\", \"title\", \"imdbId\", \"youtubeId\")\n",
    "    return df_rec_movies"
   ]
  },
  {
   "cell_type": "code",
   "execution_count": 11,
   "metadata": {},
   "outputs": [],
   "source": [
    "def display_rec_movies(userId, nb=5):\n",
    "    \"\"\"\n",
    "    display recommended movies in html\n",
    "\n",
    "    Parameters\n",
    "    ----------\n",
    "    userid : sigle user id or list of user id\n",
    "\n",
    "    nb :number of recommended movies\n",
    "\n",
    "    \"\"\"\n",
    "    rec_movies = get_recom_movies(userId, nb)\n",
    "    user_id =''\n",
    "    for m in rec_movies.collect():\n",
    "        if m.userId != user_id:\n",
    "            user_id = m.userId\n",
    "            display(HTML(f\"<h3>Recommended movies for User ID: {user_id}</h3>\"))\n",
    "        display(HTML(f\"<a href='https://www.imdb.com/title/tt{m.imdbId}' target='_blank'>{m.title}</a>  <a href='http://youtube.com/watch?v={m.youtubeId}' target='_blank'>trailer on YouTube</a>\"))\n",
    "            "
   ]
  },
  {
   "cell_type": "markdown",
   "metadata": {},
   "source": [
    "# Input the user ids to get the list of Recommended movies\n",
    "(example: 100, 200, 300, 400)"
   ]
  },
  {
   "cell_type": "code",
   "execution_count": 12,
   "metadata": {
    "scrolled": false
   },
   "outputs": [
    {
     "name": "stdout",
     "output_type": "stream",
     "text": [
      "Input the user ID (sigle or list of ids) : 100, 200, 300, 400\n"
     ]
    },
    {
     "data": {
      "text/html": [
       "<h3>Recommended movies for User ID: 300</h3>"
      ],
      "text/plain": [
       "<IPython.core.display.HTML object>"
      ]
     },
     "metadata": {},
     "output_type": "display_data"
    },
    {
     "data": {
      "text/html": [
       "<a href='https://www.imdb.com/title/tt1655442' target='_blank'>The Artist (2011)</a>  <a href='http://youtube.com/watch?v=OK7pfLlsUQM' target='_blank'>trailer on YouTube</a>"
      ],
      "text/plain": [
       "<IPython.core.display.HTML object>"
      ]
     },
     "metadata": {},
     "output_type": "display_data"
    },
    {
     "data": {
      "text/html": [
       "<a href='https://www.imdb.com/title/tt0307385' target='_blank'>Rivers and Tides (2001)</a>  <a href='http://youtube.com/watch?v=AT3lveJmjY8' target='_blank'>trailer on YouTube</a>"
      ],
      "text/plain": [
       "<IPython.core.display.HTML object>"
      ]
     },
     "metadata": {},
     "output_type": "display_data"
    },
    {
     "data": {
      "text/html": [
       "<a href='https://www.imdb.com/title/tt0203230' target='_blank'>You Can Count on Me (2000)</a>  <a href='http://youtube.com/watch?v=WfBoo0XvGfE' target='_blank'>trailer on YouTube</a>"
      ],
      "text/plain": [
       "<IPython.core.display.HTML object>"
      ]
     },
     "metadata": {},
     "output_type": "display_data"
    },
    {
     "data": {
      "text/html": [
       "<a href='https://www.imdb.com/title/tt0091251' target='_blank'>Come and See (Idi i smotri) (1985)</a>  <a href='http://youtube.com/watch?v=L-Ro0SZf438' target='_blank'>trailer on YouTube</a>"
      ],
      "text/plain": [
       "<IPython.core.display.HTML object>"
      ]
     },
     "metadata": {},
     "output_type": "display_data"
    },
    {
     "data": {
      "text/html": [
       "<h3>Recommended movies for User ID: 100</h3>"
      ],
      "text/plain": [
       "<IPython.core.display.HTML object>"
      ]
     },
     "metadata": {},
     "output_type": "display_data"
    },
    {
     "data": {
      "text/html": [
       "<a href='https://www.imdb.com/title/tt0041090' target='_blank'>Adam's Rib (1949)</a>  <a href='http://youtube.com/watch?v=tQ5NpJ81AY4' target='_blank'>trailer on YouTube</a>"
      ],
      "text/plain": [
       "<IPython.core.display.HTML object>"
      ]
     },
     "metadata": {},
     "output_type": "display_data"
    },
    {
     "data": {
      "text/html": [
       "<a href='https://www.imdb.com/title/tt0494277' target='_blank'>Strictly Sexual (2008)</a>  <a href='http://youtube.com/watch?v=mMdP1oqJP4Y' target='_blank'>trailer on YouTube</a>"
      ],
      "text/plain": [
       "<IPython.core.display.HTML object>"
      ]
     },
     "metadata": {},
     "output_type": "display_data"
    },
    {
     "data": {
      "text/html": [
       "<a href='https://www.imdb.com/title/tt0083190' target='_blank'>Thief (1981)</a>  <a href='http://youtube.com/watch?v=keET6waBJHk' target='_blank'>trailer on YouTube</a>"
      ],
      "text/plain": [
       "<IPython.core.display.HTML object>"
      ]
     },
     "metadata": {},
     "output_type": "display_data"
    },
    {
     "data": {
      "text/html": [
       "<a href='https://www.imdb.com/title/tt0384504' target='_blank'>Saving Face (2004)</a>  <a href='http://youtube.com/watch?v=m76qAslk0y0' target='_blank'>trailer on YouTube</a>"
      ],
      "text/plain": [
       "<IPython.core.display.HTML object>"
      ]
     },
     "metadata": {},
     "output_type": "display_data"
    },
    {
     "data": {
      "text/html": [
       "<h3>Recommended movies for User ID: 400</h3>"
      ],
      "text/plain": [
       "<IPython.core.display.HTML object>"
      ]
     },
     "metadata": {},
     "output_type": "display_data"
    },
    {
     "data": {
      "text/html": [
       "<a href='https://www.imdb.com/title/tt0053137' target='_blank'>On the Beach (1959)</a>  <a href='http://youtube.com/watch?v=Awm50kJQeeI' target='_blank'>trailer on YouTube</a>"
      ],
      "text/plain": [
       "<IPython.core.display.HTML object>"
      ]
     },
     "metadata": {},
     "output_type": "display_data"
    },
    {
     "data": {
      "text/html": [
       "<a href='https://www.imdb.com/title/tt0091251' target='_blank'>Come and See (Idi i smotri) (1985)</a>  <a href='http://youtube.com/watch?v=L-Ro0SZf438' target='_blank'>trailer on YouTube</a>"
      ],
      "text/plain": [
       "<IPython.core.display.HTML object>"
      ]
     },
     "metadata": {},
     "output_type": "display_data"
    },
    {
     "data": {
      "text/html": [
       "<a href='https://www.imdb.com/title/tt0384504' target='_blank'>Saving Face (2004)</a>  <a href='http://youtube.com/watch?v=m76qAslk0y0' target='_blank'>trailer on YouTube</a>"
      ],
      "text/plain": [
       "<IPython.core.display.HTML object>"
      ]
     },
     "metadata": {},
     "output_type": "display_data"
    },
    {
     "data": {
      "text/html": [
       "<h3>Recommended movies for User ID: 200</h3>"
      ],
      "text/plain": [
       "<IPython.core.display.HTML object>"
      ]
     },
     "metadata": {},
     "output_type": "display_data"
    },
    {
     "data": {
      "text/html": [
       "<a href='https://www.imdb.com/title/tt0384504' target='_blank'>Saving Face (2004)</a>  <a href='http://youtube.com/watch?v=m76qAslk0y0' target='_blank'>trailer on YouTube</a>"
      ],
      "text/plain": [
       "<IPython.core.display.HTML object>"
      ]
     },
     "metadata": {},
     "output_type": "display_data"
    },
    {
     "data": {
      "text/html": [
       "<a href='https://www.imdb.com/title/tt1366312' target='_blank'>Emma (2009)</a>  <a href='http://youtube.com/watch?v=FatZXMKv6xI' target='_blank'>trailer on YouTube</a>"
      ],
      "text/plain": [
       "<IPython.core.display.HTML object>"
      ]
     },
     "metadata": {},
     "output_type": "display_data"
    },
    {
     "data": {
      "text/html": [
       "<a href='https://www.imdb.com/title/tt0417349' target='_blank'>North & South (2004)</a>  <a href='http://youtube.com/watch?v=eXZrYgrwAoM' target='_blank'>trailer on YouTube</a>"
      ],
      "text/plain": [
       "<IPython.core.display.HTML object>"
      ]
     },
     "metadata": {},
     "output_type": "display_data"
    }
   ],
   "source": [
    "userIdInput = input(\"Input the user ID (sigle or list of ids) : \")\n",
    "display_rec_movies([int(e.strip()) for e in userIdInput.split(',')])\n"
   ]
  },
  {
   "cell_type": "markdown",
   "metadata": {},
   "source": [
    "## other tests"
   ]
  },
  {
   "cell_type": "code",
   "execution_count": 13,
   "metadata": {},
   "outputs": [
    {
     "name": "stdout",
     "output_type": "stream",
     "text": [
      "+------+----------------------------------------------------------------------------------------------------+\n",
      "|userId|recommendations                                                                                     |\n",
      "+------+----------------------------------------------------------------------------------------------------+\n",
      "|471   |[[6818, 5.1971087], [89904, 4.836401], [58301, 4.807467], [51931, 4.789848], [8477, 4.7536807]]     |\n",
      "|463   |[[3379, 4.8360953], [171495, 4.8099704], [5075, 4.7839384], [33649, 4.7730894], [78836, 4.7462564]] |\n",
      "|496   |[[89904, 5.220061], [6818, 4.8951616], [25771, 4.7698693], [176371, 4.7178593], [100714, 4.6885977]]|\n",
      "|148   |[[98491, 4.602793], [183897, 4.5978146], [25906, 4.5014005], [77846, 4.5014005], [93008, 4.5014005]]|\n",
      "|540   |[[26171, 5.312468], [32892, 5.261033], [3925, 5.2275634], [177593, 5.1534095], [60943, 5.0078473]]  |\n",
      "+------+----------------------------------------------------------------------------------------------------+\n",
      "only showing top 5 rows\n",
      "\n"
     ]
    }
   ],
   "source": [
    "# Generate top 5 movie recommendations for each user\n",
    "userRecs = als_model.recommendForAllUsers(5)\n",
    "userRecs.show(5, False)"
   ]
  },
  {
   "cell_type": "code",
   "execution_count": 14,
   "metadata": {},
   "outputs": [
    {
     "name": "stdout",
     "output_type": "stream",
     "text": [
      "+-------+----------------------------------------------------------------------------------------+\n",
      "|movieId|recommendations                                                                         |\n",
      "+-------+----------------------------------------------------------------------------------------+\n",
      "|1580   |[[53, 5.097166], [543, 4.7331495], [267, 4.622299], [452, 4.58258], [276, 4.5718994]]   |\n",
      "|4900   |[[99, 4.6421227], [539, 4.440361], [574, 4.392588], [493, 4.31025], [73, 4.2963686]]    |\n",
      "|5300   |[[236, 4.302127], [224, 4.0200305], [250, 4.0109334], [59, 3.9718616], [53, 3.9529269]] |\n",
      "|6620   |[[360, 5.199749], [518, 4.869224], [393, 4.726391], [418, 4.710321], [430, 4.653871]]   |\n",
      "|7340   |[[543, 4.4401903], [53, 4.3066406], [43, 4.1246996], [276, 3.9683414], [558, 3.8822365]]|\n",
      "+-------+----------------------------------------------------------------------------------------+\n",
      "only showing top 5 rows\n",
      "\n"
     ]
    }
   ],
   "source": [
    "# Generate top 5 user recommendations for each movie\n",
    "movieRecs = als_model.recommendForAllItems(5)\n",
    "movieRecs.show(5, False)"
   ]
  },
  {
   "cell_type": "code",
   "execution_count": 15,
   "metadata": {},
   "outputs": [
    {
     "name": "stdout",
     "output_type": "stream",
     "text": [
      "+------+----------------------------------------------------------------------------------------------------+\n",
      "|userId|recommendations                                                                                     |\n",
      "+------+----------------------------------------------------------------------------------------------------+\n",
      "|471   |[[6818, 5.1971087], [89904, 4.836401], [58301, 4.807467], [51931, 4.789848], [8477, 4.7536807]]     |\n",
      "|463   |[[3379, 4.8360953], [171495, 4.8099704], [5075, 4.7839384], [33649, 4.7730894], [78836, 4.7462564]] |\n",
      "|148   |[[98491, 4.602793], [183897, 4.5978146], [25906, 4.5014005], [77846, 4.5014005], [93008, 4.5014005]]|\n",
      "+------+----------------------------------------------------------------------------------------------------+\n",
      "\n"
     ]
    }
   ],
   "source": [
    "# Generate top 5 movie recommendations for a specified set of users\n",
    "users = ratings.select(als.getUserCol()).distinct().limit(3)\n",
    "userSubsetRecs = als_model.recommendForUserSubset(users, 5)\n",
    "userSubsetRecs.show(5, False)"
   ]
  },
  {
   "cell_type": "code",
   "execution_count": 16,
   "metadata": {},
   "outputs": [
    {
     "name": "stdout",
     "output_type": "stream",
     "text": [
      "+-------+---------------------------------------------------------------------------------------+\n",
      "|movieId|recommendations                                                                        |\n",
      "+-------+---------------------------------------------------------------------------------------+\n",
      "|1580   |[[53, 5.097166], [543, 4.7331495], [267, 4.622299], [452, 4.58258], [276, 4.5718994]]  |\n",
      "|3175   |[[53, 4.9045753], [558, 4.6209235], [452, 4.524556], [246, 4.4747305], [276, 4.445344]]|\n",
      "|2366   |[[236, 4.931757], [53, 4.6494646], [275, 4.470407], [276, 4.46451], [122, 4.4399204]]  |\n",
      "+-------+---------------------------------------------------------------------------------------+\n",
      "\n"
     ]
    }
   ],
   "source": [
    "# Generate top 5 user recommendations for a specified set of movies\n",
    "movies = ratings.select(als.getItemCol()).distinct().limit(3)\n",
    "movieSubSetRecs = als_model.recommendForItemSubset(movies, 5)\n",
    "movieSubSetRecs.show(5, False)"
   ]
  },
  {
   "cell_type": "code",
   "execution_count": null,
   "metadata": {},
   "outputs": [],
   "source": []
  }
 ],
 "metadata": {
  "kernelspec": {
   "display_name": "Python 3",
   "language": "python",
   "name": "python3"
  },
  "language_info": {
   "codemirror_mode": {
    "name": "ipython",
    "version": 3
   },
   "file_extension": ".py",
   "mimetype": "text/x-python",
   "name": "python",
   "nbconvert_exporter": "python",
   "pygments_lexer": "ipython3",
   "version": "3.7.3"
  }
 },
 "nbformat": 4,
 "nbformat_minor": 2
}
